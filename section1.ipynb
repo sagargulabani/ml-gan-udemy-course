{
 "cells": [
  {
   "cell_type": "markdown",
   "metadata": {},
   "source": [
    "Deterministic Processes\n",
    "Definition: A deterministic process is one in which no randomness is involved in the development of future states. Given an initial state, the subsequent states of the system are completely determined by the initial conditions and the rules governing the process.\n",
    "\n",
    "Stochastic Processes\n",
    "Definition: A stochastic process is one in which randomness is inherent in the development of future states. The process is influenced by random variables, making the outcome uncertain even if the initial conditions are known."
   ]
  },
  {
   "cell_type": "markdown",
   "metadata": {},
   "source": [
    "Discriminative models aim to learn the boundary between different classes in the data. They focus on modeling the conditional probability \n",
    "𝑃(𝑦∣𝑥), where y is the class label and x is the observed data.\n",
    "\n",
    "It is called discriminative because it is going to discriminate between the different types of input data.\n",
    "\n",
    "Estimate the probability of an image being a cat, given an image\n",
    "\n",
    "labels are provided, supervised learning\n"
   ]
  },
  {
   "cell_type": "markdown",
   "metadata": {},
   "source": [
    "Generative models aim to model the joint probability distribution P(x,y) of the observed data 𝑥 and the labels 𝑦. This means they learn how the data is generated, including the relationship between the features and the labels. Once they have learned this joint distribution, they can generate new data points by sampling from it.\n",
    "\n",
    "Generative models are for generating the probability of a certain piece of data. \n",
    "\n",
    "Estimating the probability of seeing a cat.\n",
    "\n",
    "No labels, self supervised"
   ]
  },
  {
   "cell_type": "markdown",
   "metadata": {},
   "source": [
    "Representation learning\n",
    "\n",
    "Learn to form and group features of very high dimension (like images) in a space of less dimensions. \n",
    "instead of working with a higher dimension space directly, we describe the data using latent space of lower dimensionality.\n",
    "\n",
    "Reduce high dimensionality to a smaller dimensions."
   ]
  },
  {
   "cell_type": "markdown",
   "metadata": {},
   "source": [
    "First we are going to reduce the dimensions. Reduce high dimensional space to the lower dimension space.\n",
    "\n",
    "Then we are going to learn a mapping function that will take back the low dimension space to the higher dimension.\n",
    "Recreate images in the original domain that could be new cats, dogs or people. "
   ]
  },
  {
   "cell_type": "markdown",
   "metadata": {},
   "source": [
    "Representative learning learns what are the most important features to describe the data and how to generate those characteristics.\n",
    "Advantage of working with representative learning is that it is easy to manipulate the space with lower dimensions. For example, stylegan can manipulate the degree of a smile in an image. "
   ]
  },
  {
   "cell_type": "markdown",
   "metadata": {},
   "source": []
  }
 ],
 "metadata": {
  "kernelspec": {
   "display_name": "venv",
   "language": "python",
   "name": "python3"
  },
  "language_info": {
   "name": "python",
   "version": "3.11.7"
  }
 },
 "nbformat": 4,
 "nbformat_minor": 2
}
